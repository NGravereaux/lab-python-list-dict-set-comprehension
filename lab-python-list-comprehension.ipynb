{
 "cells": [
  {
   "cell_type": "markdown",
   "id": "25d7736c-ba17-4aff-b6bb-66eba20fbf4e",
   "metadata": {},
   "source": [
    "# Lab | List, Dict and Set Comprehension"
   ]
  },
  {
   "cell_type": "markdown",
   "id": "7dd3cbde-675a-4b81-92c3-f728846dbe06",
   "metadata": {},
   "source": [
    "## Exercise: Managing Customer Orders Optimized with Comprehension"
   ]
  },
  {
   "cell_type": "markdown",
   "id": "5d500160-2fb7-4777-b5e4-09d45ebaf328",
   "metadata": {},
   "source": [
    "In the previous exercise, you developed a program to manage customer orders and inventory. Now, let's take it a step further and incorporate comprehension into your code.\n",
    "\n",
    "Follow the steps below to complete the exercise:\n",
    "\n",
    "1. Review your code from the previous exercise and identify areas where you can apply comprehension to simplify and streamline your code. \n",
    "\n",
    "    - *Hint: Apply it to initialize inventory, updating the inventory and printing the updated inventory.*\n",
    "    \n",
    "    - For example, in initializing the inventory, we could have:\n",
    "    \n",
    "        ```python\n",
    "        def initialize_inventory(products):\n",
    "            inventory = {product: int(input(f\"Enter the quantity of {product}s available: \")) for product in products}\n",
    "            return inventory\n",
    "\n",
    "        ```\n",
    "<br>\n",
    "    \n",
    "    \n",
    "2. Modify the function get_customer_orders so it prompts the user to enter the number of customer orders and gathers the product names using a loop and user input. Use comprehension.\n",
    "\n",
    "3. Add a new function to calculate the total price of the customer order. For each product in customer_orders, prompt the user to enter the price of that product. Use comprehension to calculate the total price. Note: assume that the user can only have 1 unit of each product.\n",
    "\n",
    "4. Modify the update_inventory function to remove the product from the inventory if its quantity becomes zero after fulfilling the customer orders. Use comprehension to filter out the products with a quantity of zero from the inventory.\n",
    "\n",
    "5. Print the total price of the customer order.\n",
    "\n",
    "Your code should produce output similar to the following:\n",
    "\n",
    "```python\n",
    "Enter the quantity of t-shirts available:  5\n",
    "Enter the quantity of mugs available:  4\n",
    "Enter the quantity of hats available:  3\n",
    "Enter the quantity of books available:  2\n",
    "Enter the quantity of keychains available:  1\n",
    "Enter the number of customer orders:  2\n",
    "Enter the name of a product that a customer wants to order:  hat\n",
    "Enter the name of a product that a customer wants to order:  keychain\n",
    "\n",
    "Order Statistics:\n",
    "Total Products Ordered: 2\n",
    "Percentage of Unique Products Ordered: 40.0\n",
    "\n",
    "Updated Inventory:\n",
    "t-shirt: 5\n",
    "mug: 4\n",
    "hat: 2\n",
    "book: 2\n",
    "Enter the price of keychain:  5\n",
    "Enter the price of hat:  10\n",
    "Total Price: 15.0\n",
    "\n",
    "```\n"
   ]
  },
  {
   "cell_type": "code",
   "execution_count": 9,
   "id": "1a6a630b",
   "metadata": {},
   "outputs": [
    {
     "name": "stdout",
     "output_type": "stream",
     "text": [
      "{'t-shirt': 10, 'mug': 10, 'hat': 10, 'book': 10, 'keychain': 10}\n"
     ]
    }
   ],
   "source": [
    "#1. Review your code from the previous exercise and identify areas where you can apply comprehension to simplify and streamline your code. `Hint: Apply it to initialize inventory, updating the inventory and printing the updated inventory.\n",
    "\n",
    "def initialize_inventory(products):\n",
    "    inventory = {product: int(input(f\"Enter the quantity of {product} available: \")) for product in products}\n",
    "    return inventory\n",
    "\n",
    "products = [\"t-shirt\", \"mug\", \"hat\", \"book\", \"keychain\"]\n",
    "inventory = initialize_inventory(products) \n",
    "print(inventory)"
   ]
  },
  {
   "cell_type": "code",
   "execution_count": 38,
   "id": "6b0bbecf",
   "metadata": {},
   "outputs": [
    {
     "name": "stdout",
     "output_type": "stream",
     "text": [
      "Customer orders: {'book': 10}\n"
     ]
    }
   ],
   "source": [
    "#2. Modify the function get_customer_orders so it prompts the user to enter the quantity of items customer want to order and gathers the product names using a loop and user input. Use comprehension.\n",
    "def get_customer_orders(products):\n",
    "    customer_orders = {}\n",
    "\n",
    "    while True:\n",
    "        product = input(\"Enter the name of a product that a customer wants to order: \")\n",
    "        quantity = int(input(f\"Enter the quantity of {product}: \"))\n",
    "\n",
    "        customer_orders[product] = customer_orders.get(product, 0) + quantity\n",
    "\n",
    "        add_more = input(\"Do you want to add another product? (yes/no): \")\n",
    "        if add_more != \"yes\":\n",
    "            break\n",
    "        \n",
    "    return customer_orders\n",
    "\n",
    "# Test the function\n",
    "\n",
    "customer_orders = get_customer_orders(products)\n",
    "print(\"Customer orders:\", customer_orders)\n",
    "\n"
   ]
  },
  {
   "cell_type": "code",
   "execution_count": 62,
   "id": "2939f4a6",
   "metadata": {},
   "outputs": [
    {
     "name": "stdout",
     "output_type": "stream",
     "text": [
      "The total price of the order is: $ 216.0\n"
     ]
    }
   ],
   "source": [
    "#3.Add a new function to calculate the total price of the customer order. For each product in customer_orders, prompt the user to enter the price of that product. Use comprehension to calculate the total price. Note: assume that the user can only have 1 unit of each product.\n",
    "\n",
    "def calculate_total_price(customer_orders):\n",
    "    # Prompt the user to enter the price for each product in customer_orders:\n",
    "    prices = {product: float(input(f\"Enter the price for {product}: \")) for product in customer_orders}\n",
    "    # Use comprehension to calculate the total price\n",
    "    total_price = sum(prices[product] for product in customer_orders)\n",
    "    \n",
    "    return total_price\n",
    "\n",
    "# call function\n",
    "customer_orders = [\"t-shirt\", \"mug\", \"hat\", \"book\", \"keychain\"]\n",
    "total_price = calculate_total_price(customer_orders)\n",
    "print(\"The total price of the order is: $\", total_price)"
   ]
  },
  {
   "cell_type": "code",
   "execution_count": 44,
   "id": "f95ff603",
   "metadata": {},
   "outputs": [
    {
     "data": {
      "text/plain": [
       "{'t-shirt': 10, 'mug': 10, 'hat': 10, 'keychain': 10}"
      ]
     },
     "execution_count": 44,
     "metadata": {},
     "output_type": "execute_result"
    }
   ],
   "source": [
    "#4. Modify the update_inventory function to remove the product from the inventory if its quantity becomes zero after fulfilling the customer orders. Use comprehension to filter out the products with a quantity of zero from the inventory.\n",
    "def update_inventory(customer_orders, inventory):\n",
    "    inventory = {product: (quantity - customer_orders[product] if product in customer_orders and quantity > 0 else quantity)\n",
    "                 for product, quantity in inventory.items()}\n",
    "    \n",
    "    # Print products with a quantity of zero\n",
    "    updated_inventory = {product: quantity for product, quantity in inventory.items() if quantity > 0}\n",
    "    \n",
    "    # Print non-existent products\n",
    "    for product in customer_orders:\n",
    "        if product not in inventory:\n",
    "            print(f\"{product} is out of stock or does not exist in the inventory\")\n",
    "    \n",
    "    return updated_inventory\n",
    "\n",
    "update_inventory(customer_orders, inventory)"
   ]
  },
  {
   "cell_type": "code",
   "execution_count": 71,
   "id": "1203a215",
   "metadata": {},
   "outputs": [
    {
     "ename": "NameError",
     "evalue": "name 'prices' is not defined",
     "output_type": "error",
     "traceback": [
      "\u001b[0;31m---------------------------------------------------------------------------\u001b[0m",
      "\u001b[0;31mNameError\u001b[0m                                 Traceback (most recent call last)",
      "Cell \u001b[0;32mIn[71], line 10\u001b[0m\n\u001b[1;32m      6\u001b[0m         total_price \u001b[38;5;241m+\u001b[39m\u001b[38;5;241m=\u001b[39m prices[order]\n\u001b[1;32m      7\u001b[0m         \u001b[38;5;28;01mreturn\u001b[39;00m total_price\n\u001b[0;32m---> 10\u001b[0m print_total_price(customer_orders, prices)\n",
      "\u001b[0;31mNameError\u001b[0m: name 'prices' is not defined"
     ]
    }
   ],
   "source": [
    "#5. Print the total price of the customer order.\n",
    "def print_total_price(customer_orders, prices):\n",
    "   \n",
    "    total_price = 0\n",
    "    for order in customer_orders:\n",
    "        total_price += prices[order]\n",
    "        return total_price\n",
    "    \n",
    "\n",
    "print_total_price(customer_orders, prices)\n"
   ]
  }
 ],
 "metadata": {
  "kernelspec": {
   "display_name": "Python 3 (ipykernel)",
   "language": "python",
   "name": "python3"
  },
  "language_info": {
   "codemirror_mode": {
    "name": "ipython",
    "version": 3
   },
   "file_extension": ".py",
   "mimetype": "text/x-python",
   "name": "python",
   "nbconvert_exporter": "python",
   "pygments_lexer": "ipython3",
   "version": "3.11.7"
  }
 },
 "nbformat": 4,
 "nbformat_minor": 5
}
